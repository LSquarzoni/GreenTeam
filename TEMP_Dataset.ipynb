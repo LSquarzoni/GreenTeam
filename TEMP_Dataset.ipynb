{
 "cells": [
  {
   "cell_type": "markdown",
   "metadata": {},
   "source": [
    "The following code is useful to correctly format, manipulate and save as a CVS file the temperature dataset we need to work with"
   ]
  },
  {
   "cell_type": "code",
   "execution_count": 1,
   "metadata": {},
   "outputs": [],
   "source": [
    "# Importing packages\n",
    "import matplotlib.pyplot as plt\n",
    "import numpy as np\n",
    "import pandas as pd\n",
    "import seaborn as sns\n",
    "import pyarrow"
   ]
  },
  {
   "cell_type": "code",
   "execution_count": 2,
   "metadata": {},
   "outputs": [
    {
     "name": "stdout",
     "output_type": "stream",
     "text": [
      "                             r205n01    r205n02    r205n03    r205n04  \\\n",
      "timestamp                                                               \n",
      "2020-04-01 07:15:00+00:00  21.533333  21.413334  21.600000  21.800000   \n",
      "2020-04-01 07:30:00+00:00  21.568890  21.502222  21.600000  21.804443   \n",
      "2020-04-01 07:45:00+00:00  21.577778  21.524445  21.600000  21.822222   \n",
      "2020-04-01 08:00:00+00:00  21.506666  21.400000  21.600000  21.800000   \n",
      "2020-04-01 08:15:00+00:00  21.493334  21.400000  21.595556  21.791111   \n",
      "\n",
      "                             r205n05    r205n06    r205n07    r205n08  \\\n",
      "timestamp                                                               \n",
      "2020-04-01 07:15:00+00:00  22.393333  22.646667  23.406666  24.540000   \n",
      "2020-04-01 07:30:00+00:00  22.400000  22.671110  23.368889  24.528889   \n",
      "2020-04-01 07:45:00+00:00  22.386667  22.657778  23.391111  24.515556   \n",
      "2020-04-01 08:00:00+00:00  22.280000  22.506666  23.191110  24.377777   \n",
      "2020-04-01 08:15:00+00:00  22.200000  22.333334  22.888890  24.191113   \n",
      "\n",
      "                             r205n09    r205n10  ...    r256n11    r256n12  \\\n",
      "timestamp                                        ...                         \n",
      "2020-04-01 07:15:00+00:00  24.380000  23.720000  ...  14.513333  14.146667   \n",
      "2020-04-01 07:30:00+00:00  24.404444  23.755554  ...  14.706667  14.368889   \n",
      "2020-04-01 07:45:00+00:00  24.395555  23.755554  ...  14.804444  14.471111   \n",
      "2020-04-01 08:00:00+00:00  24.417778  23.840000  ...  14.791111  14.440000   \n",
      "2020-04-01 08:15:00+00:00  24.551111  24.022223  ...  14.751111  14.413333   \n",
      "\n",
      "                             r256n13    r256n14    r256n15    r256n16  \\\n",
      "timestamp                                                               \n",
      "2020-04-01 07:15:00+00:00  13.893333  14.080000  14.166666  13.720000   \n",
      "2020-04-01 07:30:00+00:00  14.093333  14.297777  14.404444  13.960000   \n",
      "2020-04-01 07:45:00+00:00  14.204444  14.417777  14.551111  14.088889   \n",
      "2020-04-01 08:00:00+00:00  14.173333  14.404445  14.493334  14.031111   \n",
      "2020-04-01 08:15:00+00:00  14.151111  14.360000  14.475555  13.986667   \n",
      "\n",
      "                             r256n17    r256n18    r256n19    r256n20  \n",
      "timestamp                                                              \n",
      "2020-04-01 07:15:00+00:00  13.793549  14.453333  15.432258  17.813334  \n",
      "2020-04-01 07:30:00+00:00  14.013333  14.635556  15.648890  17.955555  \n",
      "2020-04-01 07:45:00+00:00  14.142222  14.737778  15.742223  18.062222  \n",
      "2020-04-01 08:00:00+00:00  14.093333  14.746667  15.764444  18.115557  \n",
      "2020-04-01 08:15:00+00:00  14.066667  14.702223  15.742223  18.040000  \n",
      "\n",
      "[5 rows x 980 columns]\n",
      "                             r205n01  r205n02   r205n03    r205n04    r205n05  \\\n",
      "timestamp                                                                       \n",
      "2020-04-01 07:15:00+00:00  35.460003     35.4  35.40000  36.300000  38.100000   \n",
      "2020-04-01 07:30:00+00:00  35.440002     35.4  35.40000  36.286667  38.100000   \n",
      "2020-04-01 07:45:00+00:00  35.666668     35.4  35.40000  36.280000  38.100000   \n",
      "2020-04-01 08:00:00+00:00  35.413334     35.4  35.40000  36.006668  38.026665   \n",
      "2020-04-01 08:15:00+00:00  35.400000     35.4  35.38667  36.000000  37.800000   \n",
      "\n",
      "                             r205n06    r205n07    r205n08  r205n09  \\\n",
      "timestamp                                                             \n",
      "2020-04-01 07:15:00+00:00  38.400000  39.900000  42.000000     41.7   \n",
      "2020-04-01 07:30:00+00:00  38.400000  39.900000  42.000000     41.7   \n",
      "2020-04-01 07:45:00+00:00  38.400000  39.926666  42.000000     41.7   \n",
      "2020-04-01 08:00:00+00:00  38.266666  39.900000  41.920002     41.7   \n",
      "2020-04-01 08:15:00+00:00  37.866665  39.620000  41.700000     41.7   \n",
      "\n",
      "                             r205n10  ...    r256n11    r256n12    r256n13  \\\n",
      "timestamp                             ...                                    \n",
      "2020-04-01 07:15:00+00:00  39.300000  ...  29.400000  28.800000  28.910000   \n",
      "2020-04-01 07:30:00+00:00  39.300000  ...  29.646667  29.046667  29.100000   \n",
      "2020-04-01 07:45:00+00:00  39.300000  ...  29.886667  29.120000  29.353333   \n",
      "2020-04-01 08:00:00+00:00  39.386665  ...  30.000000  29.246666  29.400000   \n",
      "2020-04-01 08:15:00+00:00  39.600000  ...  29.880001  29.100000  29.393333   \n",
      "\n",
      "                             r256n14    r256n15  r256n16    r256n17  \\\n",
      "timestamp                                                             \n",
      "2020-04-01 07:15:00+00:00  28.800000  28.570000    27.99  28.432259   \n",
      "2020-04-01 07:30:00+00:00  29.080000  28.800000    28.34  28.680000   \n",
      "2020-04-01 07:45:00+00:00  29.153334  29.033333    28.50  28.800000   \n",
      "2020-04-01 08:00:00+00:00  29.260000  29.100000    28.50  28.800000   \n",
      "2020-04-01 08:15:00+00:00  29.100000  28.966667    28.50  28.800000   \n",
      "\n",
      "                             r256n18  r256n19    r256n20  \n",
      "timestamp                                                 \n",
      "2020-04-01 07:15:00+00:00  30.680000    30.60  32.400000  \n",
      "2020-04-01 07:30:00+00:00  30.900000    30.78  32.693333  \n",
      "2020-04-01 07:45:00+00:00  31.026667    30.90  32.706670  \n",
      "2020-04-01 08:00:00+00:00  31.180000    30.90  32.993332  \n",
      "2020-04-01 08:15:00+00:00  30.933332    30.90  32.713333  \n",
      "\n",
      "[5 rows x 980 columns]\n"
     ]
    }
   ],
   "source": [
    "path_TEMP_in = \"../ambient.csv\"\n",
    "path_TEMP_out = \"../pcie.csv\"\n",
    "dataset_TEMP_in = pd.read_csv(path_TEMP_in)\n",
    "dataset_TEMP_out = pd.read_csv(path_TEMP_out)\n",
    "\n",
    "# Casting of node values into integers and timestamp into datetimes\n",
    "dataset_TEMP_in['timestamp'] = pd.to_datetime(dataset_TEMP_in['timestamp'])\n",
    "dataset_TEMP_in.set_index('timestamp', inplace=True)\n",
    "dataset_TEMP_out['timestamp'] = pd.to_datetime(dataset_TEMP_out['timestamp'])\n",
    "dataset_TEMP_out.set_index('timestamp', inplace=True)\n",
    "\n",
    "print(dataset_TEMP_in.head())\n",
    "print(dataset_TEMP_out.head())"
   ]
  },
  {
   "cell_type": "code",
   "execution_count": 3,
   "metadata": {},
   "outputs": [],
   "source": [
    "# We decided to drop the first months\n",
    "dataset_TEMP_in = dataset_TEMP_in.loc['2020-05-01 00:00:00+00:00':'2022-09-28 22:00:00+00:00']\n",
    "dataset_TEMP_out = dataset_TEMP_out.loc['2020-05-01 00:00:00+00:00':'2022-09-28 22:00:00+00:00']\n",
    "\n",
    "# Resampling of the DataFrame on an hourly basis and calculate the mean\n",
    "dataset_TEMP_in = dataset_TEMP_in.resample('1h').mean()\n",
    "dataset_TEMP_out = dataset_TEMP_out.resample('1h').mean()"
   ]
  },
  {
   "cell_type": "code",
   "execution_count": 4,
   "metadata": {},
   "outputs": [],
   "source": [
    "# Substitution of the NaN values present using a linear interpolation method\n",
    "dataset_TEMP_in.interpolate(axis=0, method='linear', inplace=True)\n",
    "dataset_TEMP_in.interpolate(axis=1, method='linear', inplace=True)\n",
    "\n",
    "dataset_TEMP_out.interpolate(axis=0, method='linear', inplace=True)\n",
    "dataset_TEMP_out.interpolate(axis=1, method='linear', inplace=True)"
   ]
  },
  {
   "cell_type": "code",
   "execution_count": 5,
   "metadata": {},
   "outputs": [],
   "source": [
    "# Dataset exporting as a CSV file for later use\n",
    "output_file = '../TemperatureDataset_inlet.csv'\n",
    "dataset_TEMP_in.to_csv(output_file, index_label='timestamp')\n",
    "\n",
    "output_file = '../TemperatureDataset_outlet.csv'\n",
    "dataset_TEMP_out.to_csv(output_file, index_label='timestamp')"
   ]
  }
 ],
 "metadata": {
  "kernelspec": {
   "display_name": "DeepLearning",
   "language": "python",
   "name": "python3"
  },
  "language_info": {
   "codemirror_mode": {
    "name": "ipython",
    "version": 3
   },
   "file_extension": ".py",
   "mimetype": "text/x-python",
   "name": "python",
   "nbconvert_exporter": "python",
   "pygments_lexer": "ipython3",
   "version": "3.10.13"
  }
 },
 "nbformat": 4,
 "nbformat_minor": 2
}
