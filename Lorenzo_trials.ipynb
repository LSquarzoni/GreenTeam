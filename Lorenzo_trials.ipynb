{
 "cells": [
  {
   "cell_type": "code",
   "execution_count": 1,
   "metadata": {},
   "outputs": [],
   "source": [
    "# Importing packages\n",
    "import matplotlib.pyplot as plt\n",
    "import numpy as np\n",
    "import pandas as pd\n",
    "import seaborn as sns\n",
    "import pyarrow"
   ]
  },
  {
   "cell_type": "code",
   "execution_count": 2,
   "metadata": {},
   "outputs": [
    {
     "name": "stdout",
     "output_type": "stream",
     "text": [
      "                        timestamp  value  node\n",
      "0       2020-04-01 07:20:00+00:00    440     0\n",
      "1       2020-04-01 07:20:20+00:00    440     0\n",
      "2       2020-04-01 07:20:40+00:00    440     0\n",
      "3       2020-04-01 07:21:00+00:00    440     0\n",
      "4       2020-04-01 07:21:20+00:00    440     0\n",
      "...                           ...    ...   ...\n",
      "4750197 2020-04-04 01:11:20+00:00    680   157\n",
      "4750198 2020-04-04 01:11:40+00:00    680   157\n",
      "4750199 2020-04-04 01:12:00+00:00    680   157\n",
      "4750200 2020-04-04 01:12:20+00:00    680   157\n",
      "4750201 2020-04-04 01:12:40+00:00    680   157\n",
      "\n",
      "[4750202 rows x 3 columns]\n"
     ]
    }
   ],
   "source": [
    "path_P = \"totalpower.parquet\"\n",
    "dataset_P = pd.read_parquet(path_P, engine='pyarrow')\n",
    "\n",
    "# Casting of node values into integers\n",
    "dataset_P['node'] = dataset_P['node'].astype(int)\n",
    "\n",
    "# I want to extract from the whole dataset only the rows related to the node 0\n",
    "#dataset_P_node0 = dataset_P[dataset_P['node'] == 0]\n",
    "#del(dataset_P)\n",
    "print(dataset_P)"
   ]
  }
 ],
 "metadata": {
  "kernelspec": {
   "display_name": "DeepLearning",
   "language": "python",
   "name": "python3"
  },
  "language_info": {
   "codemirror_mode": {
    "name": "ipython",
    "version": 3
   },
   "file_extension": ".py",
   "mimetype": "text/x-python",
   "name": "python",
   "nbconvert_exporter": "python",
   "pygments_lexer": "ipython3",
   "version": "3.10.13"
  }
 },
 "nbformat": 4,
 "nbformat_minor": 2
}
